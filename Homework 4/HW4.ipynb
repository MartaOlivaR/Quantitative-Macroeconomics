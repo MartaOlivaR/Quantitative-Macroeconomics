{
 "cells": [
  {
   "cell_type": "markdown",
   "metadata": {},
   "source": [
    "# QUANTITATIVE MACROECONOMICS: PROBLEM SET 4 - VALUE FUNCTION ITERATION\n",
    "#### Marta Oliva Riera"
   ]
  },
  {
   "cell_type": "code",
   "execution_count": 8,
   "metadata": {},
   "outputs": [],
   "source": [
    "import numpy as np\n",
    "import matplotlib.pyplot as plt\n",
    "import quantecon as qe"
   ]
  },
  {
   "cell_type": "markdown",
   "metadata": {},
   "source": [
    "## 1. Value function itertion with inelastic labour supply\n",
    "The following is the recursive formulation of our problem:\n",
    "\n",
    "$$ V(k) = {Max}_{c, k'} ln(c) - \\kappa \\frac{h^{1+\\frac{1}{\\nu}}}{1+\\frac{1}{\\nu}} + \\beta V(k') $$\n",
    "\n",
    "$$ s.t. c + k' = k^{1-\\theta} - (1-\\delta)k $$\n",
    "\n",
    "\n",
    "### (a) Brute force iterations:\n",
    "To solve the problem for the fixed point of the value function, I follow some steps:\n",
    "1. Discretize the state space: I create 200 evenly spaced points for k between 1 and 1.5 times the steady state value of k.\n",
    "\n",
    "2. Create the returns matrix (M). I make sure it is feasible by including the feasibility constraint $ c>0 $. Eah of M's elements is defined as:\n",
    "$$ M_{ij} = m(k_i, k_j) = ln(k_i^{1-\\theta} - (1-\\delta)k_i - k_j) $$\n",
    "\n",
    "3. Set up an initil guess for the value function, which for me is just  vector of zeros:\n",
    "$$ V_0 (k) = 0 $$\n",
    "\n",
    "4. Value function iteration: based on the initial guess, I create the $\\chi$ matrix, whose elements are $\\chi_{ij} = M_{ij} + \\beta V_j^S$, where S is the number of iterations. The maximum value of each row in $\\chi$ creates the updated value function, as well as the decision rule (g): \n",
    "$$ V^{s+1} = max(\\chi) $$\n",
    "$$ g = argmax(\\chi) $$\n",
    "\n",
    "5. Check for convergence of the value functions: if $|V^{s+1} - V^s| < \\varepsilon$, they have converged; if not I repeat step 4 until there is convergence.\n",
    "\n",
    "The results are presented below the code.\n"
   ]
  },
  {
   "cell_type": "code",
   "execution_count": 11,
   "metadata": {},
   "outputs": [
    {
     "name": "stdout",
     "output_type": "stream",
     "text": [
      "TOC: Elapsed: 0:00:54.20\n"
     ]
    },
    {
     "data": {
      "image/png": "[encoded data removed]",
      "text/plain": [
       "<Figure size 432x288 with 1 Axes>"
      ]
     },
     "metadata": {
      "needs_background": "light"
     },
     "output_type": "display_data"
    },
    {
     "name": "stdout",
     "output_type": "stream",
     "text": [
      "Convergence of the value functions took 371 iterations, in 54.2015266418457 seconds.\n"
     ]
    }
   ],
   "source": [
    "#%% ===========================================================================\n",
    "# 1. VFI with inelastic labour supply\n",
    "# =============================================================================\n",
    "# parameters + labour supply:\n",
    "theta = 0.679\n",
    "beta = 0.988\n",
    "delta = 0.013\n",
    "kappa = 5.24\n",
    "nu = 2.0\n",
    "\n",
    "h = 1   # inelastic labour supply\n",
    "\n",
    "# (a) Brute force Value Function Iteration \n",
    "#------------------------------------------------------------------------------\n",
    "# Discretize the state space: \n",
    "qe.tic()\n",
    "kSS = ((1/beta-1+delta)/(1-theta))**(-1/theta)\n",
    "nk = 200\n",
    "k = np.linspace(1, 1.5*kSS, nk)   # nk evenly spaced points\n",
    "\n",
    "# Returns matrix:\n",
    "M = np.empty([nk,nk])\n",
    "for i,ki in enumerate(k):\n",
    "        for j, kj in enumerate(k):\n",
    "            if kj <= ki**(1- theta) + (1-delta)*ki:   # using only feasible values (c>0)\n",
    "                M[i,j]  = np.log(ki**(1- theta) + (1-delta)*ki - kj)   # omitting the labour part of u()\n",
    "            else:\n",
    "                M[i,j] = -1000000\n",
    "\n",
    "# Value function iteration:\n",
    "epsilon = 0.01 \n",
    "convergence = False\n",
    "s = 0\n",
    "S = 500\n",
    "X = np.empty([nk, nk])\n",
    "g = np.ones([nk, 1])\n",
    "Vi = np.zeros([nk,1])   # initial value function guess\n",
    "Vj = np.empty([nk,1])\n",
    "\n",
    "while (s<S) and (convergence == False):\n",
    "    for i in range(nk):\n",
    "        for j in range(nk):\n",
    "            X[i,j] = M[i,j] + beta*Vi[j]\n",
    "    for i in range(nk):\n",
    "        Vj[i] = np.max(X[i,:])\n",
    "        g[i] = np.argmax(X[i,:])\n",
    "    if np.max(Vj - Vi) >= epsilon:\n",
    "        Vi = np.copy(Vj)\n",
    "        Vj = np.empty([nk,1])\n",
    "        s += 1\n",
    "    else:\n",
    "        convergence = True\n",
    "        \n",
    "# Policy functions:\n",
    "gk = np.empty(nk)\n",
    "gc = np.empty(nk)\n",
    "for i in range(nk):\n",
    "    gk[i] = k[int(g[i])]\n",
    "    gc[i] = k[i]**(1- theta) + (1-delta)*k[i] - gk[i]\n",
    "\n",
    "T = qe.toc()\n",
    "\n",
    "# Plotting:\n",
    "plt.plot(k, Vj, label='V(k)')  \n",
    "plt.xlabel('k')\n",
    "plt.ylabel('V(k)')\n",
    "plt.show()\n",
    "\n",
    "print(\"Convergence of the value functions took \"+str(s)+\" iterations, in \" + str(T) +\" seconds.\")  "
   ]
  },
  {
   "cell_type": "markdown",
   "metadata": {},
   "source": [
    "Convergence takes quite long in this case. The next sections will reduce the time by taking advantage of some properties of the value function and the decision rules, as well as using other methods (policy function iteration)."
   ]
  },
  {
   "cell_type": "markdown",
   "metadata": {},
   "source": [
    "### (b) Monotonicity of the decision rule:\n",
    "\n",
    "Here I repeat the same steps as in the previous case but I add a lower bound of the decision rule ($g^{LB}$) such that the $\\chi$ matrix will only be computed for those pairs of $(k_i,k_j)$ which satisfy the lower bound: $k_j >= g^{LB}(k_i)$.\n",
    "\n",
    "As can be seen in the results below the code, that speeds up the convergence process by a bit over 10 seconds.\n"
   ]
  },
  {
   "cell_type": "code",
   "execution_count": 12,
   "metadata": {},
   "outputs": [
    {
     "name": "stdout",
     "output_type": "stream",
     "text": [
      "TOC: Elapsed: 0:00:41.22\n"
     ]
    },
    {
     "data": {
      "image/png": "[encoded data removed]",
      "text/plain": [
       "<Figure size 432x288 with 1 Axes>"
      ]
     },
     "metadata": {
      "needs_background": "light"
     },
     "output_type": "display_data"
    },
    {
     "name": "stdout",
     "output_type": "stream",
     "text": [
      "Convergence of the value functions took 371 iterations, in 41.228310108184814 seconds.\n"
     ]
    }
   ],
   "source": [
    "#%% (b) Monotonicity of the optimal decision rule \n",
    "#------------------------------------------------------------------------------\n",
    "# Value function iteration:\n",
    "qe.tic()\n",
    "epsilon = 0.01 \n",
    "convergence = False\n",
    "s = 0\n",
    "S = 500\n",
    "g = np.ones([nk, 1])    \n",
    "X = np.zeros([nk, nk])\n",
    "Vi = np.zeros([nk,1])   # initial value function guess\n",
    "Vj = np.empty([nk,1])   # empty updated value function\n",
    "\n",
    "while (s<S) and (convergence == False):\n",
    "    for i in range(nk):\n",
    "        for j in range(nk):\n",
    "            gLB = int(g[i])    # lower bound of the decision rule\n",
    "            if j+gLB < nk:     # monotonicity\n",
    "                X[i,j+gLB] = M[i,j+gLB] + beta*Vi[j+gLB]\n",
    "            else:\n",
    "                continue\n",
    "    for i in range(nk):\n",
    "        Vj[i] = np.max(X[i,:])\n",
    "        g[i] = np.argmax(X[i,:])\n",
    "    if np.max(Vj - Vi) >= epsilon:\n",
    "        Vi = np.copy(Vj)\n",
    "        Vj = np.empty([nk,1])\n",
    "        s += 1\n",
    "    else:\n",
    "        convergence = True\n",
    "\n",
    "T = qe.toc()\n",
    "\n",
    "# Plotting:\n",
    "plt.plot(k, Vj, label='V(k)')    \n",
    "plt.xlabel('k')\n",
    "plt.ylabel('V(k)')\n",
    "plt.show()\n",
    "\n",
    "print(\"Convergence of the value functions took \"+str(s)+\" iterations, in \" + str(T) +\" seconds.\")  \n",
    "    "
   ]
  },
  {
   "cell_type": "markdown",
   "metadata": {},
   "source": [
    "### (c) Concavity of the value function:\n",
    "\n",
    "Another possibility to speed up the iteration process is to use the fact that the value function is strictly concave in k, such that if:\n",
    "\n",
    "$$ M_{i,j} + \\beta V_j > M_{i,j+1} + \\beta V_{j+1} $$\n",
    "\n",
    "then \n",
    "\n",
    "$$ M_{i,j} + \\beta V_j > M_{i,j+2} + \\beta V_{j+2} $$\n",
    "\n",
    "As a result, we do not need to compute all elements of the $\\chi$ matrix: for each row i, once we find $\\chi_{i,j-1} > \\chi_{i,j}$ we can omit the computation of the subsequent elements, as the maximand will be $\\chi_{i,j-1}$.\n",
    "\n",
    "This also speeds up the iterations when compared to the brute force case, even more than monotonicity did."
   ]
  },
  {
   "cell_type": "code",
   "execution_count": 13,
   "metadata": {},
   "outputs": [
    {
     "name": "stdout",
     "output_type": "stream",
     "text": [
      "TOC: Elapsed: 0:00:30.85\n"
     ]
    },
    {
     "data": {
      "image/png": "[encoded data removed]",
      "text/plain": [
       "<Figure size 432x288 with 1 Axes>"
      ]
     },
     "metadata": {
      "needs_background": "light"
     },
     "output_type": "display_data"
    },
    {
     "name": "stdout",
     "output_type": "stream",
     "text": [
      "Convergence of the value functions took 371 iterations, in 30.85150122642517 seconds.\n"
     ]
    }
   ],
   "source": [
    "#%% (c) Concavity of the value function \n",
    "#------------------------------------------------------------------------------\n",
    "qe.tic()\n",
    "nk=200\n",
    "# Value function iteration:\n",
    "epsilon = 0.01 \n",
    "convergence = False\n",
    "s = 0\n",
    "S = 500\n",
    "X = np.zeros([nk, nk])\n",
    "g = np.ones([nk, 1])\n",
    "Vi = np.zeros([nk,1])   # initial value function guess\n",
    "Vj = np.empty([nk,1])\n",
    "\n",
    "while (s<S) and (convergence == False):\n",
    "    for i in range(nk):\n",
    "        for j in range(nk):\n",
    "            X[i,j] = M[i,j] + beta*Vi[j]\n",
    "            if X[i,j] < X[i,j-1]:   # concavity property\n",
    "                break\n",
    "    for i in range(nk):\n",
    "        Vj[i] = np.max(X[i,:])\n",
    "        g[i] = np.argmax(X[i,:])\n",
    "    if np.max(Vj - Vi) >= epsilon:\n",
    "        Vi = np.copy(Vj)\n",
    "        Vj = np.empty([nk,1])\n",
    "        s += 1\n",
    "    else:\n",
    "        convergence = True\n",
    "\n",
    "T = qe.toc()\n",
    "\n",
    "# Plotting:\n",
    "plt.plot(k, Vj, label='V(k)')     \n",
    "plt.xlabel('k')\n",
    "plt.ylabel('V(k)')\n",
    "plt.show()\n",
    "\n",
    "print(\"Convergence of the value functions took \"+str(s)+\" iterations, in \" + str(T) +\" seconds.\")  \n"
   ]
  },
  {
   "cell_type": "markdown",
   "metadata": {},
   "source": [
    "### (d) Local search on the decision rule:\n",
    "\n",
    "Now I will use local search on the decision rule, another way of not computing as many elements of the $\\chi$ matrix in order to speed up the iterations. It is based on the fact that if $k_j = g(k_i)$ and we have a fine enough grid for k, then $g(k_{i+1})$ will be in a small neighbourhood of $k_j$.\n",
    "\n",
    "The results show only a reduction of around 10 seconds in the iteration time when compared to the brute force iterations."
   ]
  },
  {
   "cell_type": "code",
   "execution_count": 14,
   "metadata": {},
   "outputs": [
    {
     "name": "stdout",
     "output_type": "stream",
     "text": [
      "TOC: Elapsed: 0:00:48.48\n"
     ]
    },
    {
     "data": {
      "image/png": "[encoded data removed]",
      "text/plain": [
       "<Figure size 432x288 with 1 Axes>"
      ]
     },
     "metadata": {
      "needs_background": "light"
     },
     "output_type": "display_data"
    },
    {
     "name": "stdout",
     "output_type": "stream",
     "text": [
      "Convergence of the value functions took 372 iterations, in 48.48438906669617 seconds.\n"
     ]
    }
   ],
   "source": [
    "#%% (d) Local search on the decision rule \n",
    "#------------------------------------------------------------------------------\n",
    "qe.tic()\n",
    "# Value function iteration:\n",
    "epsilon = 0.01 \n",
    "convergence = False\n",
    "s = 0\n",
    "S = 500\n",
    "X = np.zeros([nk, nk])\n",
    "g = np.ones([nk, 1])\n",
    "Vi = np.zeros([nk,1])   # initial value function guess\n",
    "Vj = np.empty([nk,1])\n",
    "\n",
    "while (s<S) and (convergence == False):\n",
    "    for i in range(nk):\n",
    "        for j in range(nk):\n",
    "            if (j >= g[i]) and (j <= g[i] + 5) :    # local search\n",
    "                X[i,j] = M[i,j] + beta*Vi[j]\n",
    "    for i in range(nk):\n",
    "        Vj[i] = np.max(X[i,:])\n",
    "        g[i] = np.argmax(X[i,:])\n",
    "    if np.max(Vj - Vi) >= epsilon:\n",
    "        Vi = np.copy(Vj)\n",
    "        Vj = np.empty([nk,1])\n",
    "        s += 1\n",
    "    else:\n",
    "        convergence = True\n",
    "\n",
    "T = qe.toc()\n",
    "\n",
    "# Plotting:\n",
    "plt.plot(k, Vj, label='V(k)')       \n",
    "plt.xlabel('k')\n",
    "plt.ylabel('V(k)')\n",
    "plt.show()\n",
    "\n",
    "print(\"Convergence of the value functions took \"+str(s)+\" iterations, in \" + str(T) +\" seconds.\")  \n",
    "\n"
   ]
  },
  {
   "cell_type": "markdown",
   "metadata": {},
   "source": [
    "### (e) Monotonicity and concavity:\n",
    "\n",
    "Using both monotonicity of the decision rule and concavity of the value function at the same time results in cutting the convergence process time by half when compared to the brute force case."
   ]
  },
  {
   "cell_type": "code",
   "execution_count": 15,
   "metadata": {},
   "outputs": [
    {
     "name": "stdout",
     "output_type": "stream",
     "text": [
      "TOC: Elapsed: 0:00:23.47\n"
     ]
    },
    {
     "data": {
      "image/png": "[encoded data removed]",
      "text/plain": [
       "<Figure size 432x288 with 1 Axes>"
      ]
     },
     "metadata": {
      "needs_background": "light"
     },
     "output_type": "display_data"
    },
    {
     "name": "stdout",
     "output_type": "stream",
     "text": [
      "Convergence of the value functions took 371 iterations, in 23.470237731933594 seconds.\n"
     ]
    }
   ],
   "source": [
    "#%% (e) Concavity + Monotonicity \n",
    "#------------------------------------------------------------------------------\n",
    "# Value function iteration:\n",
    "qe.tic()\n",
    "epsilon = 0.01 \n",
    "convergence = False\n",
    "s = 0\n",
    "S = 500\n",
    "g = np.ones([nk, 1])    \n",
    "X = np.zeros([nk, nk])\n",
    "Vi = np.zeros([nk,1])   # initial value function guess\n",
    "Vj = np.empty([nk,1])   # empty updated value function\n",
    "\n",
    "while (s<S) and (convergence == False):\n",
    "    for i in range(nk):\n",
    "        for j in range(nk):\n",
    "            gLB = int(g[i])    # lower bound of the decision rule\n",
    "            if j+gLB < nk:     # monotonicity of the decision rule\n",
    "                X[i,j+gLB] = M[i,j+gLB] + beta*Vi[j+gLB]\n",
    "                if X[i,j] < X[i,j-1]:   # concavity property\n",
    "                    break\n",
    "            else:\n",
    "                continue\n",
    "    for i in range(nk):\n",
    "        Vj[i] = np.max(X[i,:])\n",
    "        g[i] = np.argmax(X[i,:])\n",
    "    if np.max(Vj - Vi) >= epsilon:\n",
    "        Vi = np.copy(Vj)\n",
    "        Vj = np.empty([nk,1])\n",
    "        s += 1\n",
    "    else:\n",
    "        convergence = True\n",
    "\n",
    "T = qe.toc()\n",
    "\n",
    "# Plotting:\n",
    "plt.plot(k, Vj, label='V(k)')     \n",
    "plt.xlabel('k')\n",
    "plt.ylabel('V(k)')\n",
    "plt.show()\n",
    "\n",
    "print(\"Convergence of the value functions took \"+str(s)+\" iterations, in \" + str(T) +\" seconds.\")  \n"
   ]
  },
  {
   "cell_type": "markdown",
   "metadata": {},
   "source": [
    "### (f) Howard's policy function iteration:\n",
    "\n",
    "This method consists on iterating on the policy functions instead of on the value function. To use it, you make an initial guess on the policy function which you use to update the value function several times. Then you update the policy function, and if it has not converged you repeat the process. \n",
    "\n",
    "I started writing the code for this one but could not finish it, it would require some more work."
   ]
  },
  {
   "cell_type": "code",
   "execution_count": 16,
   "metadata": {},
   "outputs": [],
   "source": [
    "#%% (f) Howard's policy function iterations \n",
    "#------------------------------------------------------------------------------\n",
    "qe.tic()\n",
    "\n",
    "# discretize the state space:\n",
    "kSS = ((1/beta-1+delta)/(1-theta))**(-1/theta)\n",
    "nk = 100\n",
    "k = np.linspace(1, 1.5*kSS, nk)   # nk evenly spaced points\n",
    "\n",
    "# Initial guesses and empty matrices:\n",
    "g0 = np.transpose(np.arange(0,100))    # Initial decision rule guess\n",
    "g = np.empty([nk, 1])  # empty matrix to update the guess\n",
    "\n",
    "gki = np.empty([nk, 1])\n",
    "gkj = np.empty([nk, 1])\n",
    "gc = np.empty([nk, 1])\n",
    "\n",
    "# Policy function iteration:\n",
    "epsilon = 0.01 \n",
    "convergence = False\n",
    "s = 0\n",
    "S = 500\n",
    "X = np.empty([nk, nk])\n",
    "V0 = np.zeros([nk,1])\n",
    "V = np.empty([nk,1])\n",
    "# Policy iteration: \n",
    "while (s < S) and (convergence == False):\n",
    "    for i in range(nk):\n",
    "        gki[i] = k[int(g0[i])]\n",
    "        gc[i] = k[i]**(1- theta) + (1-delta)*k[i] - gki[i]\n",
    "        V[i] = np.max(np.log(gc[i]) + beta*V0[i])\n",
    "        g[i] = np.argmax(np.log(gc[i]) + beta*V0[i])   # new decision rule\n",
    "    for i in range(nk):\n",
    "        gkj[i] = k[int(g[i])]\n",
    "        gc[i] = k[i]**(1- theta) + (1-delta)*k[i] - gkj[i]    \n",
    "    if np.max(gkj - gki)>= epsilon:\n",
    "        gki = np.copy(gkj)\n",
    "        gkj = np.empty([nk,1])\n",
    "        s += 1\n",
    "    else:\n",
    "        convergence = True"
   ]
  },
  {
   "cell_type": "markdown",
   "metadata": {},
   "source": [
    "## 2. Value function iteration with discrete labour choice:\n",
    "\n",
    "Solving the same problem but now adding the possibility for agents to choose the amount of labour they provide. To solve this I just slightly modified the brute force iteration code. The results are presented below: convergence of the value function takes more iterations than it did in the inelastic labour case, and as a result also a bit more time. Applying the rest of methods in the previous question would speed it up."
   ]
  },
  {
   "cell_type": "code",
   "execution_count": 17,
   "metadata": {},
   "outputs": [
    {
     "name": "stdout",
     "output_type": "stream",
     "text": [
      "TOC: Elapsed: 0:01:30.99\n"
     ]
    },
    {
     "data": {
      "image/png": "[encoded data removed]",
      "text/plain": [
       "<Figure size 432x288 with 1 Axes>"
      ]
     },
     "metadata": {
      "needs_background": "light"
     },
     "output_type": "display_data"
    },
    {
     "name": "stdout",
     "output_type": "stream",
     "text": [
      "Convergence of the value functions took 504 iterations, in 90.99091625213623 seconds.\n"
     ]
    }
   ],
   "source": [
    "#%% ===========================================================================\n",
    "# 2. VFI with labour choice\n",
    "# =============================================================================\n",
    "# parameters + labour supply:\n",
    "theta = 0.679\n",
    "beta = 0.988\n",
    "delta = 0.013\n",
    "kappa = 5.24\n",
    "nu = 2.0\n",
    "\n",
    "# Brute force Value Function Iteration \n",
    "#------------------------------------------------------------------------------\n",
    "# Discretize the state space, now also for h: \n",
    "qe.tic()\n",
    "kSS = ((1/beta-1+delta)/(1-theta))**(-1/theta)\n",
    "nk = 200\n",
    "nh = 50\n",
    "k = np.linspace(0.5, 1.5*kSS, nk)   # nk evenly spaced points\n",
    "h = np.linspace(0.01, 1, nh)   # nh evenly spaced points\n",
    "\n",
    "# Returns matrix:\n",
    "M = np.empty([nk,nk, nh])\n",
    "for i,ki in enumerate(k):\n",
    "        for j, kj in enumerate(k):\n",
    "            for l, hl in enumerate(h):\n",
    "                if kj <= ki**(1- theta) + (1-delta)*ki:   # using only feasible values (c>0)\n",
    "                    M[i,j,l]  = np.log(ki**(1- theta) + (1-delta)*ki - kj) + kappa*(hl**(1+(1/nu))/(1+(1/nu)))\n",
    "                else:\n",
    "                    M[i,j,l] = -1000000\n",
    "\n",
    "# Value function iteration:\n",
    "epsilon = 0.01 \n",
    "convergence = False\n",
    "s = 0\n",
    "S = 800\n",
    "X = np.empty([nk, nk, nh])\n",
    "g = np.ones([nk, 1])\n",
    "Vi = np.zeros([nk,1])   # initial value function guess\n",
    "Vj = np.empty([nk,1])\n",
    "gk = np.empty(nk)\n",
    "gh = np.empty(nh)\n",
    "gc = np.empty(nk)\n",
    "\n",
    "while (s<S) and (convergence == False):\n",
    "    for i in range(nk):\n",
    "        for j in range(nk):\n",
    "            X[i,j] = M[i,j] + beta*Vi[j]\n",
    "    for i in range(nk):\n",
    "        Vj[i] = np.max(X[i,:,:])\n",
    "        gk[i] = k[np.unravel_index(np.argmax(X[i,:,:], axis=None), X[i,:,:].shape)[0]]\n",
    "        gc[i] =  k[i]**(1- theta) + (1-delta)*k[i] - gk[i]    \n",
    "    for i in range(nh):\n",
    "        gh[i] = h[np.unravel_index(np.nanargmax(X[i,:,:], axis=None), X[i,:,:].shape)[1]]\n",
    "    if np.max(Vj - Vi) >= epsilon:\n",
    "        Vi = np.copy(Vj)\n",
    "        Vj = np.empty([nk,1])\n",
    "        s += 1\n",
    "    else:\n",
    "        convergence = True\n",
    "        \n",
    "\n",
    "\n",
    "T = qe.toc()\n",
    "\n",
    "# Plotting:\n",
    "plt.plot(k, Vj, label='V(k)')     \n",
    "plt.xlabel('k')\n",
    "plt.ylabel('V(k)')    \n",
    "plt.show()\n",
    "\n",
    "print(\"Convergence of the value functions took \"+str(s)+\" iterations, in \" + str(T) +\" seconds.\")  \n"
   ]
  }
 ],
 "metadata": {
  "kernelspec": {
   "display_name": "Python 3",
   "language": "python",
   "name": "python3"
  },
  "language_info": {
   "codemirror_mode": {
    "name": "ipython",
    "version": 3
   },
   "file_extension": ".py",
   "mimetype": "text/x-python",
   "name": "python",
   "nbconvert_exporter": "python",
   "pygments_lexer": "ipython3",
   "version": "3.7.3"
  }
 },
 "nbformat": 4,
 "nbformat_minor": 2
}
